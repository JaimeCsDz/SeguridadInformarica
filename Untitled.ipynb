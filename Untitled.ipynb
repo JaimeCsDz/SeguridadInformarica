{
 "cells": [
  {
   "cell_type": "code",
   "execution_count": null,
   "id": "0c8aad2f",
   "metadata": {
    "scrolled": true
   },
   "outputs": [
    {
     "name": "stdout",
     "output_type": "stream",
     "text": [
      "Introduce los datos de tu INE\n",
      "Igresa tus nombres: Castaneda Dzul Jaime\n",
      "Ingresa tu sexo: H\n",
      "Ingresa tu domicilio: Villas del caribe\n",
      "Ingresa tu clave de elector: asdfghpoiu\n",
      "Ingresa tu CURP: CADJ030217HQRSMA9\n",
      "Ingresa el año de registro: 2021\n"
     ]
    }
   ],
   "source": [
    "INE = {\n",
    "    \n",
    "}\n",
    "print(\"Introduce los datos de tu INE\")\n",
    "\n",
    "INE['nombre'] = input(\"Igresa tus nombres: \")\n",
    "INE['sexo'] = input(\"Ingresa tu sexo: \")\n",
    "INE['domicilio'] = input(\"Ingresa tu domicilio: \")\n",
    "INE['clave'] = input(\"Ingresa tu clave de elector: \")\n",
    "INE['curp'] = input(\"Ingresa tu CURP: \")\n",
    "INE['año de registro'] = input(\"Ingresa el año de registro: \")\n",
    "INE['fecha de nacimiento'] = input(\"Ingresa tu fecha de nacimiento: \")\n",
    "INE['seccion'] = input(\"Ingresa la seccion: \")\n",
    "INE['vigencia'] = input(\"Ingresa la vigencia: \")\n",
    "\n",
    "\n"
   ]
  },
  {
   "cell_type": "code",
   "execution_count": 6,
   "id": "8fb199b9",
   "metadata": {
    "scrolled": true
   },
   "outputs": [
    {
     "name": "stdout",
     "output_type": "stream",
     "text": [
      "Datos guardados en el diccionario:\n",
      "nombre: Castañeda Dzul Jaime Alejandro\n",
      "sexo: H\n",
      "domicilio: QWERTYUIO\n",
      "clave: SDFGHJKL\n",
      "curp: CADJ030217HQRSZMA9\n",
      "año de registro: 2021\n",
      "fecha de nacimiento: 17/02/03\n",
      "seccion: 232331\n",
      "vigencia: 2031\n",
      "\n"
     ]
    }
   ],
   "source": [
    "with open('INE.txt', 'w') as archivo:\n",
    "    for solicita, ingresa in INE.items():\n",
    "        archivo.write(f\"{solicita}: {ingresa}\\n\")\n",
    "\n",
    "with open('INE.txt', 'r', encoding='ISO-8859-1') as archivo:\n",
    "    print(\"Datos guardados en el diccionario:\")\n",
    "    contenido = archivo.read()\n",
    "    print(contenido)\n",
    "        "
   ]
  }
 ],
 "metadata": {
  "kernelspec": {
   "display_name": "Python 3 (ipykernel)",
   "language": "python",
   "name": "python3"
  },
  "language_info": {
   "codemirror_mode": {
    "name": "ipython",
    "version": 3
   },
   "file_extension": ".py",
   "mimetype": "text/x-python",
   "name": "python",
   "nbconvert_exporter": "python",
   "pygments_lexer": "ipython3",
   "version": "3.11.5"
  }
 },
 "nbformat": 4,
 "nbformat_minor": 5
}
