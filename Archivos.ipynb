{
 "cells": [
  {
   "cell_type": "code",
   "execution_count": 4,
   "id": "e0eb76a0",
   "metadata": {},
   "outputs": [],
   "source": [
    "import tkinter as tk\n",
    "from tkinter import filedialog\n",
    "from docx import Document #Documentos de word\n",
    "import openpyxl\n",
    "import fitz  # Importamos PyMuPDF\n",
    "\n",
    "def abrir_archivo(tipo, archivo):\n",
    "    if tipo == \"Word\":\n",
    "        document = Document(archivo)\n",
    "        for paragraph in document.paragraphs:\n",
    "            print(paragraph.text)\n",
    "    elif tipo == \"Excel\":\n",
    "        workbook = openpyxl.load_workbook(archivo)\n",
    "        sheet = workbook.active\n",
    "        for row in sheet.iter_rows(values_only=True):\n",
    "            print(\" \".join(map(str, row)))\n",
    "    elif tipo == \"PDF\":\n",
    "        pdf_document = fitz.open(archivo)\n",
    "        for page_num in range(len(pdf_document)):\n",
    "            page = pdf_document[page_num]\n",
    "            text = page.get_text()\n",
    "            print(text)\n",
    "    else:\n",
    "        print(\"Tipo de archivo no válido\")\n",
    "#funcion para seleccionar archivo\n",
    "def seleccionar_archivo():\n",
    "    archivo = filedialog.askopenfilename(title=\"Seleccionar archivo\", filetypes=[(\"Archivos\", \"*.*\")])\n",
    "    if archivo:\n",
    "        tipo_archivo = archivo.split(\".\")[-1]\n",
    "        if tipo_archivo == \"docx\":\n",
    "            abrir_archivo(\"Word\", archivo)\n",
    "        elif tipo_archivo == \"xlsx\":\n",
    "            abrir_archivo(\"Excel\", archivo)\n",
    "        elif tipo_archivo == \"pdf\":\n",
    "            abrir_archivo(\"PDF\", archivo)\n",
    "        else:\n",
    "            print(\"Tipo de archivo no válido\")\n",
    "\n",
    "def main():\n",
    "    root = tk.Tk()\n",
    "    root.withdraw()  \n",
    "    seleccionar_archivo()\n",
    "\n",
    "if __name__ == \"__main__\":\n",
    "    main()"
   ]
  },
  {
   "cell_type": "code",
   "execution_count": null,
   "id": "e75658f8",
   "metadata": {},
   "outputs": [],
   "source": []
  }
 ],
 "metadata": {
  "kernelspec": {
   "display_name": "Python 3 (ipykernel)",
   "language": "python",
   "name": "python3"
  },
  "language_info": {
   "codemirror_mode": {
    "name": "ipython",
    "version": 3
   },
   "file_extension": ".py",
   "mimetype": "text/x-python",
   "name": "python",
   "nbconvert_exporter": "python",
   "pygments_lexer": "ipython3",
   "version": "3.11.5"
  }
 },
 "nbformat": 4,
 "nbformat_minor": 5
}
