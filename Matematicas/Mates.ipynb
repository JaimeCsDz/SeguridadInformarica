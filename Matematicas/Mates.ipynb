{
 "cells": [
  {
   "cell_type": "code",
   "execution_count": 1,
   "id": "fa57d72a",
   "metadata": {},
   "outputs": [
    {
     "name": "stdout",
     "output_type": "stream",
     "text": [
      "Ingrese el primer número: 5\n",
      "Ingrese el segundo número: 7\n",
      "Suma: 12.0\n",
      "Resta: -2.0\n",
      "Multiplicación: 35.0\n",
      "División: 0.7142857142857143\n",
      "Potencia: 78125.0\n",
      "Raiz cuadrada: 2.23606797749979\n"
     ]
    }
   ],
   "source": [
    "import basicas\n",
    "import avanzadas\n",
    "\n",
    "a = float(input(\"Ingrese el primer número: \"))\n",
    "b = float(input(\"Ingrese el segundo número: \"))\n",
    "\n",
    "print(\"Suma:\", basicas.resultado_s(a, b))\n",
    "print(\"Resta:\", basicas.resta_r(a, b))\n",
    "print(\"Multiplicación:\", basicas.multi_r(a, b))\n",
    "print(\"División:\", basicas.divi_r(a, b))\n",
    "\n",
    "print(\"Potencia:\", avanzadas.pote(a,b))\n",
    "print(\"Raiz cuadrada:\", avanzadas.raiz_r(a))"
   ]
  },
  {
   "cell_type": "code",
   "execution_count": null,
   "id": "7304d0a6",
   "metadata": {},
   "outputs": [],
   "source": []
  }
 ],
 "metadata": {
  "kernelspec": {
   "display_name": "Python 3 (ipykernel)",
   "language": "python",
   "name": "python3"
  },
  "language_info": {
   "codemirror_mode": {
    "name": "ipython",
    "version": 3
   },
   "file_extension": ".py",
   "mimetype": "text/x-python",
   "name": "python",
   "nbconvert_exporter": "python",
   "pygments_lexer": "ipython3",
   "version": "3.11.5"
  }
 },
 "nbformat": 4,
 "nbformat_minor": 5
}
