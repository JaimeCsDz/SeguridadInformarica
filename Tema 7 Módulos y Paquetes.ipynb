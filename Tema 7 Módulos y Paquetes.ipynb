{
 "cells": [
  {
   "cell_type": "code",
   "execution_count": 3,
   "id": "cc7000a0",
   "metadata": {
    "scrolled": false
   },
   "outputs": [
    {
     "name": "stdout",
     "output_type": "stream",
     "text": [
      "Normal\n"
     ]
    }
   ],
   "source": [
    "import imc_modulo\n",
    "\n",
    "persona = {\n",
    "    \"Nombre\": \"Jaime\",\n",
    "    \"ap_paterno\":\"Castaneda\",\n",
    "    \"ap_materno\":\"Dzul\",\n",
    "    \"Edad\": 20,\n",
    "    \"Estatura\": 1.63,\n",
    "    \"Peso\":65\n",
    "}\n",
    "\n",
    "peso_p = persona[\"Peso\"]\n",
    "estatura_p = persona[\"Estatura\"]\n",
    "nombre_p = persona[\"Nombre\"]\n",
    "\n",
    "imc_p = imc_modulo.imc(peso_p, estatura_p)\n",
    "imc_modulo.nivel_peso(imc_p)"
   ]
  },
  {
   "cell_type": "code",
   "execution_count": 16,
   "id": "fbeedca1",
   "metadata": {},
   "outputs": [],
   "source": []
  }
 ],
 "metadata": {
  "kernelspec": {
   "display_name": "Python 3 (ipykernel)",
   "language": "python",
   "name": "python3"
  },
  "language_info": {
   "codemirror_mode": {
    "name": "ipython",
    "version": 3
   },
   "file_extension": ".py",
   "mimetype": "text/x-python",
   "name": "python",
   "nbconvert_exporter": "python",
   "pygments_lexer": "ipython3",
   "version": "3.11.5"
  }
 },
 "nbformat": 4,
 "nbformat_minor": 5
}
